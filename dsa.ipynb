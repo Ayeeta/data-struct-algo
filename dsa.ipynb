{
 "cells": [
  {
   "cell_type": "code",
   "execution_count": 1,
   "metadata": {},
   "outputs": [
    {
     "name": "stdout",
     "output_type": "stream",
     "text": [
      "[[1, 2, 3, 4], [1, 2, 3, 4], [1, 2, 3, 4]]\n"
     ]
    }
   ],
   "source": [
    "mylist = [1,2,3,4]\n",
    "a = [mylist] * 3\n",
    "print(a)"
   ]
  },
  {
   "cell_type": "code",
   "execution_count": 21,
   "metadata": {},
   "outputs": [
    {
     "name": "stdout",
     "output_type": "stream",
     "text": [
      "['c', 'a', 't', 'd', 'o', 'g', 'r', 'a', 'b', 'b', 'i', 't']\n",
      "['c', 'a', 't', 'd', 'o', 'g', 'r', 'b', 'i']\n",
      "['c', 'a', 't', 'd', 'o', 'g', 'r', 'b', 'i']\n"
     ]
    }
   ],
   "source": [
    "word_list = ['cat','dog','rabbit']\n",
    "letter_list = [ ]\n",
    "for a_word in word_list:\n",
    "    for a_letter in a_word:\n",
    "        letter_list.append(a_letter)\n",
    "print(letter_list)\n",
    "\n",
    "#remove duplicates\n",
    "letter_copy = list(dict.fromkeys(letter_list))\n",
    "print(letter_copy)\n",
    "\n",
    "#using nested list comprehensions\n",
    "letter_list2 = [a_letter for a_word in word_list for a_letter in a_word]\n",
    "\n",
    "#remove suplicates\n",
    "letter_list2 = list(dict.fromkeys(letter_list2))\n",
    "print(letter_list2)"
   ]
  },
  {
   "cell_type": "markdown",
   "metadata": {},
   "source": [
    "### square root using newton's method\n",
    "\n",
    "#### root = 1/2 *(root + (n / root))"
   ]
  },
  {
   "cell_type": "code",
   "execution_count": 3,
   "metadata": {},
   "outputs": [
    {
     "name": "stdout",
     "output_type": "stream",
     "text": [
      "3.0\n",
      "2.0\n",
      "3038.788245337276\n"
     ]
    }
   ],
   "source": [
    "def square_root(n):\n",
    "    root = n/2 #initial guess\n",
    "    for k in range(20):\n",
    "        root = (1/2) * (root + (n/root))\n",
    "    return root\n",
    "\n",
    "print(square_root(9))\n",
    "print(square_root(4))\n",
    "print(square_root(9234234))"
   ]
  },
  {
   "cell_type": "code",
   "execution_count": 4,
   "metadata": {},
   "outputs": [
    {
     "name": "stdout",
     "output_type": "stream",
     "text": [
      "28\n"
     ]
    }
   ],
   "source": [
    "print(len('methinks it is like a weasel'))"
   ]
  },
  {
   "cell_type": "code",
   "execution_count": 1,
   "metadata": {},
   "outputs": [],
   "source": [
    "# from twisted.internet import task, reactor\n",
    "# import random\n",
    "# import string\n",
    "# goal = 'methinks it is like a weasel'\n",
    "# compressed_string = goal.replace(\" \", \"\")\n",
    "\n",
    "\n",
    "# def generate_string():\n",
    "#     random_string = string.ascii_lowercase\n",
    "#     return ''.join(random.choice(random_string) for _ in range(23))\n",
    "\n",
    "\n",
    "# def score():\n",
    "#     random_string = generate_string()\n",
    "#     if random_string == compressed_string:\n",
    "#         return True\n",
    "#     else:       \n",
    "#         return False\n",
    "\n",
    "\n",
    "# def repeat_process():\n",
    "#     result = score()\n",
    "#     while result == False:\n",
    "#         score()\n",
    "#     else:\n",
    "#         print(goal)\n",
    "        \n",
    "        \n",
    "\n",
    "        \n",
    "# repeat_process()"
   ]
  },
  {
   "cell_type": "code",
   "execution_count": 11,
   "metadata": {},
   "outputs": [
    {
     "name": "stdout",
     "output_type": "stream",
     "text": [
      "yNMxNKJbq3xypHQhgHykxlf\n",
      "yq brG3,L:rfS6HW2sTbBBO\n",
      "JnCp!kwsEcp1eVI :i!I8PI\n",
      "Zr5oUIxs73vWJrCAuIf0dyS\n",
      "k uakPSsgRW:IuAWO1Kh;O0\n",
      "EPAOI6WsOqOgWc:biSEHmQB\n",
      "3oIW.L8sT0v..GD5h,G,6;j\n",
      "czfivSnsD!EdYTYjtPp?SJi\n",
      "b?bse?HsK;UNbR.DxUcIJ3R\n",
      "HBbhq  sDE,f:gNVhzg96kS\n",
      "1MGh8vgsmMv2CZTpk,RaHoi\n",
      "DM2hnnhsNZ63AxlSPk5azs1\n",
      ",BlhOnBsa49kQU:b7nGawb.\n",
      "G0WhrnYsIeD0VfWYD9PaBA1\n",
      "FthhHnlssEo8o1fZ KRa6WB\n",
      "Dp.hBnUs2DVqbQ?mXXQaSu1\n",
      "Ot:hBnCsArGDpMssEXjaxMu\n",
      "ZH!h1nxsozN8oklZUObaV6g\n",
      "OYKhLn5szbggpprc;FEa.4q\n",
      "uD:h9nns5K,.MPVqbM1a;7H\n",
      "fdqhanJsG7KHXsb;sk6afAc\n",
      "fXQhXnfs;qwAcwME.jqa2no\n",
      "6.ihLnJsmaf!t5N?U;6a4b6\n",
      ":Emhgnbs3j E6bQDUsKanhp\n",
      "cW4h ntsHe!TuuFE8PjaKMt\n",
      "N?0h?nTsyEq17IMOfa;apQ8\n",
      "1wahfnks4:MiK?8uRz;a0im\n",
      "dzsh:nks3OUfc75v;HCaPXQ\n",
      "yWehenksyuCuOsA;i0,aSe3\n",
      ". dh:nkstmYFAAjoohFake8\n",
      ",wxhVnkst:cGQZ?zp.,aZeK\n",
      "HgfhZnks1;Ysa8uI!NHaEeK\n",
      "JUih4nksPeDsl3jYtjgateV\n",
      "ie6h;nksXw1slWvkEqUa5eP\n",
      "IeVhGnksKnZslVMDyxfa?eT\n",
      " eThMnks7c,slA7!vZEaweq\n",
      "Ie0h2nkse1dslKPHR?Za2eh\n",
      "he6hMnksmrosl.L J,daQe \n",
      "9ekh0nksnfhslEk13fHaDe0\n",
      "peXhHnksRh5slakmr6;aueb\n",
      "oe2hznksKwislWkTcnpaEeY\n",
      "3e,h;nksNJislSkgxUaase,\n",
      "DeOhvnksgaisldk ,3Nase2\n",
      "Je hqnksS3islvkQEJnaseu\n",
      "xeqhJnksN2islnkTAF;asea\n",
      "WeGhtnksPAislbkmS:paseJ\n",
      "6e?h nksClislhku8;,asev\n",
      "We!h!nksi4isl!kP!UjaseG\n",
      "3eThSnksiLislqkpJ,vase \n",
      "jeohrnksiTislKkH.p.asev\n",
      "RerhUnksijislZkQA7?aseA\n",
      "SerhunksioislYkz rIasew\n",
      "UeAhqnksiJislUkO?w asef\n",
      "ge4hQnksiMislvkQbwMaseJ\n",
      "zeRhInksiIisl,kFNwHasec\n",
      "We?hXnksiRislMkQqwaase7\n",
      "5eQhKnksiOislakTOwNaseF\n",
      "Me hKnksi3islPkn8w?aseh\n",
      "yeWhunksiVisl1kQ6wqasez\n",
      "6ePhgnksi islAkEWwHaseQ\n",
      ",ezh8nksi2isltkENwYase.\n",
      "EeohNnksidislWkBdwHasew\n",
      "Ge hCnksiDislkk.uwYase.\n",
      "KeEhYnksiMislskJ wIaseQ\n",
      "ce;hOnksi:islKkfwwFase0\n",
      "OeFhZnksiMisltk!uwzase3\n",
      ":ekhBnksipislcksJw1asez\n",
      "neIhOnksiUislmkZPwPaseB\n",
      "6efhtnksikislVki1wuaseQ\n",
      "SeEhCnksirislSkSAwXasea\n",
      "teehznksibisl koZwLaseY\n",
      "ieohJnksi islDkrOwKased\n",
      "bewhjnksiuisl!kM wYasem\n",
      "5e2hFnksiZislZku5wQasey\n",
      "ye6hPnksi4islCkuYw6asex\n",
      "4eIhznksimislVk84wkaseM\n",
      "QexhinksibislakGBw9asew\n",
      "Oebhinksi:islikRqwEaseq\n",
      "ce7hinksiIislikjnwGasef\n",
      "nefhinksi1islikiwwIaseT\n",
      "xeahinksisislikkEwUasen\n",
      "teBhinksigislikvdwNaseu\n",
      "eeyhinksi!isliktBwiasev\n",
      " eDhinksiDislik?9w7ase1\n",
      "Oezhinksi7islikTzweaseK\n",
      "yeXhinksiuislik?nweaseV\n",
      "geGhinksi4islik0zweaseA\n",
      "XemhinksiOislike:weaseG\n",
      "CeVhinksidislikeSweaseM\n",
      "ueYhinksiUislike6weaseZ\n",
      "eexhinksiKislikeRweasez\n",
      "!eYhinksigislikeSwease3\n",
      "Peahinksimislikehweasev\n",
      "Ue2hinksiZislikeXweasew\n",
      "2emhinksi4islike1weaseT\n",
      "beOhinksiRislikeoweasee\n",
      "3eChinksi7islikelweaseU\n",
      "Velhinksisislike3weasem\n",
      "Oe;hinksiKislike6weaseh\n",
      "fe:hinksi6isliketweasec\n",
      "se!hinksirislikeoweaseE\n",
      "FevhinksibislikeXweasel\n",
      "pe4hinksiJislikeQweasel\n",
      "3eAhinksiSislikeGweasel\n",
      "pevhinksirislikeZweasel\n",
      "Te9hinksigislike7weasel\n",
      "QeKhinksiCislikeVweasel\n",
      ";ethinksiRislikebweasel\n",
      ".ethinksiVislikehweasel\n",
      "Vethinksi;islikeXweasel\n",
      "?ethinksiUislike9weasel\n",
      "!ethinksixislikecweasel\n",
      "HethinksiaislikeYweasel\n",
      "UethinksiQislikerweasel\n",
      " ethinksiUislikeaweasel\n",
      "gethinksiYislikeaweasel\n",
      "9ethinksiyislikeaweasel\n",
      "nethinksiSislikeaweasel\n",
      "Sethinksi,islikeaweasel\n",
      "3ethinksi.islikeaweasel\n",
      "wethinksiaislikeaweasel\n",
      "Jethinksi;islikeaweasel\n",
      "5ethinksixislikeaweasel\n",
      "Zethinksi islikeaweasel\n",
      "ZethinksiHislikeaweasel\n",
      "3ethinksimislikeaweasel\n",
      "zethinksirislikeaweasel\n",
      "sethinksi;islikeaweasel\n",
      "oethinksiPislikeaweasel\n",
      "Zethinksizislikeaweasel\n",
      "TethinksiXislikeaweasel\n",
      "gethinksifislikeaweasel\n",
      "aethinksi islikeaweasel\n",
      "iethinksiSislikeaweasel\n",
      "tethinksiOislikeaweasel\n",
      "qethinksiFislikeaweasel\n",
      "MethinksiGislikeaweasel\n",
      "6ethinksizislikeaweasel\n",
      "LethinksiXislikeaweasel\n",
      "Cethinksi7islikeaweasel\n",
      "wethinksiCislikeaweasel\n",
      "BethinksiTislikeaweasel\n",
      "HethinksiDislikeaweasel\n",
      "JethinksiNislikeaweasel\n",
      ":ethinksiMislikeaweasel\n",
      "Jethinksilislikeaweasel\n",
      "nethinksi?islikeaweasel\n",
      "VethinksiWislikeaweasel\n",
      "fethinksiOislikeaweasel\n",
      "OethinksiUislikeaweasel\n",
      "Tethinksirislikeaweasel\n",
      "!ethinksizislikeaweasel\n",
      "Qethinksiqislikeaweasel\n",
      "bethinksiuislikeaweasel\n",
      "methinksiyislikeaweasel\n",
      "methinksi3islikeaweasel\n",
      "methinksiOislikeaweasel\n",
      "methinksiXislikeaweasel\n",
      "methinksikislikeaweasel\n",
      "methinksiZislikeaweasel\n",
      "methinksi2islikeaweasel\n",
      "methinksi;islikeaweasel\n",
      "methinksi islikeaweasel\n",
      "methinksiIislikeaweasel\n",
      "methinksiDislikeaweasel\n",
      "methinksi1islikeaweasel\n",
      "methinksidislikeaweasel\n",
      "methinksibislikeaweasel\n",
      "methinksiIislikeaweasel\n",
      "methinksiNislikeaweasel\n",
      "methinksikislikeaweasel\n",
      "methinksiSislikeaweasel\n",
      "methinksifislikeaweasel\n",
      "methinksiPislikeaweasel\n",
      "methinksi?islikeaweasel\n",
      "methinksinislikeaweasel\n",
      "methinksiGislikeaweasel\n",
      "methinksiZislikeaweasel\n",
      "methinksi islikeaweasel\n",
      "methinksiWislikeaweasel\n",
      "methinksiOislikeaweasel\n",
      "methinksiIislikeaweasel\n",
      "methinksi islikeaweasel\n",
      "methinksinislikeaweasel\n",
      "methinksi4islikeaweasel\n",
      "methinksizislikeaweasel\n",
      "methinksiJislikeaweasel\n",
      "methinksiMislikeaweasel\n",
      "methinksiIislikeaweasel\n",
      "methinksihislikeaweasel\n",
      "methinksi5islikeaweasel\n",
      "methinksiYislikeaweasel\n",
      "methinksiBislikeaweasel\n",
      "methinksi1islikeaweasel\n",
      "methinksi:islikeaweasel\n",
      "methinksi,islikeaweasel\n",
      "methinksiaislikeaweasel\n",
      "methinksirislikeaweasel\n",
      "methinksi:islikeaweasel\n",
      "methinksi8islikeaweasel\n",
      "methinksi;islikeaweasel\n",
      "methinksi6islikeaweasel\n",
      "methinksi7islikeaweasel\n",
      "methinksisislikeaweasel\n",
      "methinksi,islikeaweasel\n",
      "methinksiqislikeaweasel\n",
      "methinksibislikeaweasel\n",
      "methinksiHislikeaweasel\n",
      "methinksimislikeaweasel\n",
      "methinksi,islikeaweasel\n",
      "methinksi8islikeaweasel\n",
      "methinksi;islikeaweasel\n",
      "methinksiJislikeaweasel\n",
      "methinksifislikeaweasel\n",
      "methinksilislikeaweasel\n",
      "methinksiyislikeaweasel\n",
      "methinksiRislikeaweasel\n",
      "methinksi,islikeaweasel\n",
      "methinksi1islikeaweasel\n",
      "methinksiHislikeaweasel\n",
      "methinksipislikeaweasel\n",
      "methinksiKislikeaweasel\n",
      "methinksi8islikeaweasel\n",
      "methinksiFislikeaweasel\n",
      "methinksiWislikeaweasel\n",
      "methinksi:islikeaweasel\n",
      "methinksiXislikeaweasel\n",
      "methinksiXislikeaweasel\n",
      "methinksi:islikeaweasel\n",
      "methinksixislikeaweasel\n",
      "methinksitislikeaweasel\n",
      "Target matched after 231 iterations\n"
     ]
    }
   ],
   "source": [
    "# Python program to generate and match \n",
    "# the string from all random strings \n",
    "# of same length \n",
    "\n",
    "# Importing string, random \n",
    "# and time modules \n",
    "import string \n",
    "import random \n",
    "import time \n",
    "\n",
    "# all possible characters including \n",
    "# lowercase, uppercase and special symbols \n",
    "possibleCharacters = string.ascii_lowercase + string.digits + string.ascii_uppercase + ' ., !?;:'\n",
    "\n",
    "# string to be generated \n",
    "t = \"methinksitislikeaweasel\"\n",
    "\n",
    "# To take input from user \n",
    "# t = input(str(\"Enter your target text: \")) \n",
    "\n",
    "attemptThis = ''.join(random.choice(possibleCharacters) \n",
    "\t\t\t\t\t\t\t\tfor i in range(len(t))) \n",
    "attemptNext = '' \n",
    "\n",
    "completed = False\n",
    "iteration = 0\n",
    "\n",
    "# Iterate while completed is false \n",
    "while completed == False: \n",
    "\tprint(attemptThis) \n",
    "\t\n",
    "\tattemptNext = '' \n",
    "\tcompleted = True\n",
    "\t\n",
    "\t# Fix the index if matches with \n",
    "\t# the strings to be generated \n",
    "\tfor i in range(len(t)): \n",
    "\t\tif attemptThis[i] != t[i]: \n",
    "\t\t\tcompleted = False\n",
    "\t\t\tattemptNext += random.choice(possibleCharacters) \n",
    "\t\telse: \n",
    "\t\t\tattemptNext += t[i] \n",
    "\t\t\t\n",
    "\t# increment the iteration \n",
    "\titeration += 1\n",
    "\tattemptThis = attemptNext \n",
    "\ttime.sleep(0.1) \n",
    "\n",
    "# Driver Code \n",
    "print(\"Target matched after \" +\n",
    "\tstr(iteration) + \" iterations\") \n"
   ]
  },
  {
   "cell_type": "code",
   "execution_count": 18,
   "metadata": {},
   "outputs": [
    {
     "data": {
      "text/plain": [
       "[1, 2, 5]"
      ]
     },
     "execution_count": 18,
     "metadata": {},
     "output_type": "execute_result"
    }
   ],
   "source": [
    "def list_duplicates(seq):\n",
    "  seen = set()\n",
    "  seen_add = seen.add\n",
    "  # adds all elements it doesn't know yet to seen and all other to seen_twice\n",
    "  seen_twice = set( x for x in seq if x in seen or seen_add(x) )\n",
    "  # turn the set into a list (as requested)\n",
    "  return list( seen_twice )\n",
    "\n",
    "a = [1,2,3,2,1,5,6,5,5,5]\n",
    "list_duplicates(a) # yields [1, 2, 5]"
   ]
  },
  {
   "cell_type": "code",
   "execution_count": 30,
   "metadata": {},
   "outputs": [
    {
     "data": {
      "text/plain": [
       "[]"
      ]
     },
     "execution_count": 30,
     "metadata": {},
     "output_type": "execute_result"
    }
   ],
   "source": [
    "def list_dupl(l):\n",
    "    if len(l) <= 1:\n",
    "        return -1\n",
    "    return list(set([x for x in l if l.count(x) > 1]))\n",
    "\n",
    "list_dupl([1,2])"
   ]
  },
  {
   "cell_type": "code",
   "execution_count": 3,
   "metadata": {},
   "outputs": [
    {
     "name": "stdout",
     "output_type": "stream",
     "text": [
      "['a', 'a', 's', 'v', 'x']\n"
     ]
    }
   ],
   "source": [
    "def isUnique(string_x):\n",
    "    string_a = list(dict.fromkeys(string_x))\n",
    "    string_b = list(string_x)\n",
    "    if len(string_a) == len(string_b):\n",
    "        return 'Is Unique'\n",
    "    return 'Not Unique'\n",
    "\n",
    "isUnique('abc')\n",
    "# print(list('aab'))\n",
    "s = 'asxav'\n",
    "x = sorted(s)\n",
    "print(x)"
   ]
  },
  {
   "cell_type": "code",
   "execution_count": 5,
   "metadata": {},
   "outputs": [
    {
     "data": {
      "text/plain": [
       "True"
      ]
     },
     "execution_count": 5,
     "metadata": {},
     "output_type": "execute_result"
    }
   ],
   "source": [
    "str1 = 'this is a boy'\n",
    "str2 = 'boy'\n",
    "str2 in str1"
   ]
  },
  {
   "cell_type": "code",
   "execution_count": 5,
   "metadata": {},
   "outputs": [
    {
     "data": {
      "text/plain": [
       "True"
      ]
     },
     "execution_count": 5,
     "metadata": {},
     "output_type": "execute_result"
    }
   ],
   "source": [
    "#obviously is string_a is in string_b string_b is longer\n",
    "# method below is wrong because permutations string lengths have to be the same\n",
    "def checkPermutation2(string_x, string_y):\n",
    "    if string_x in string_y:\n",
    "        return string_x +\" is a permutn. of \"+ string_y\n",
    "    elif string_y in string_x:\n",
    "        return string_y +\" is a permutn. of \"+ string_x\n",
    "    else:\n",
    "        return False\n",
    "    \n",
    "def permutations(s1, s2):\n",
    "    if len(s1) > len(s2) or len(s2) > len(s1):\n",
    "        return False\n",
    "    else:\n",
    "        string_x = sorted(s1)\n",
    "        string_y = sorted(s2)\n",
    "        if string_x == string_y:\n",
    "            return True\n",
    "        return False\n",
    "\n",
    "# checkPermutation2('blogger', 'globe')\n",
    "permutations('blog', 'glob')"
   ]
  },
  {
   "cell_type": "code",
   "execution_count": 30,
   "metadata": {},
   "outputs": [
    {
     "data": {
      "text/plain": [
       "'Mr%20John%20Smith'"
      ]
     },
     "execution_count": 30,
     "metadata": {},
     "output_type": "execute_result"
    }
   ],
   "source": [
    "def replaceSpaces(string_x, string_len):\n",
    "    string_y = string_x.strip()\n",
    "    return string_y.replace(\" \", \"%20\")\n",
    "\n",
    "replaceSpaces(\"  Mr John Smith  \", 13)"
   ]
  },
  {
   "cell_type": "code",
   "execution_count": 27,
   "metadata": {},
   "outputs": [
    {
     "name": "stdout",
     "output_type": "stream",
     "text": [
      "Mr John Smith\n"
     ]
    }
   ],
   "source": [
    "print(\"Mr John Smith \".strip())"
   ]
  },
  {
   "cell_type": "code",
   "execution_count": 32,
   "metadata": {},
   "outputs": [
    {
     "name": "stdout",
     "output_type": "stream",
     "text": [
      "aoC tcaT\n"
     ]
    }
   ],
   "source": [
    "s = \"Tact Coa\"\n",
    "print(s[::-1])"
   ]
  },
  {
   "cell_type": "code",
   "execution_count": 43,
   "metadata": {},
   "outputs": [
    {
     "data": {
      "text/plain": [
       "False"
      ]
     },
     "execution_count": 43,
     "metadata": {},
     "output_type": "execute_result"
    }
   ],
   "source": [
    "def palindrome(string_x):\n",
    "    string_y = string_x[::-1]\n",
    "    if string_x == string_y:\n",
    "        return True\n",
    "#         if string_x in string_y:\n",
    "#             return True\n",
    "#         return False\n",
    "    return False\n",
    "\n",
    "palindrome(\"tact coa\")"
   ]
  },
  {
   "cell_type": "code",
   "execution_count": 44,
   "metadata": {},
   "outputs": [
    {
     "ename": "AttributeError",
     "evalue": "'str' object has no attribute 'insert'",
     "output_type": "error",
     "traceback": [
      "\u001b[0;31m---------------------------------------------------------------------------\u001b[0m",
      "\u001b[0;31mAttributeError\u001b[0m                            Traceback (most recent call last)",
      "\u001b[0;32m<ipython-input-44-daf80c365161>\u001b[0m in \u001b[0;36m<module>\u001b[0;34m\u001b[0m\n\u001b[1;32m      1\u001b[0m \u001b[0ms\u001b[0m \u001b[0;34m=\u001b[0m \u001b[0;34m'abc'\u001b[0m\u001b[0;34m\u001b[0m\u001b[0;34m\u001b[0m\u001b[0m\n\u001b[0;32m----> 2\u001b[0;31m \u001b[0ms\u001b[0m\u001b[0;34m.\u001b[0m\u001b[0minsert\u001b[0m\u001b[0;34m(\u001b[0m\u001b[0;36m1\u001b[0m\u001b[0;34m,\u001b[0m\u001b[0;34m'd'\u001b[0m\u001b[0;34m)\u001b[0m\u001b[0;34m\u001b[0m\u001b[0;34m\u001b[0m\u001b[0m\n\u001b[0m\u001b[1;32m      3\u001b[0m \u001b[0mprint\u001b[0m\u001b[0;34m(\u001b[0m\u001b[0ms\u001b[0m\u001b[0;34m)\u001b[0m\u001b[0;34m\u001b[0m\u001b[0;34m\u001b[0m\u001b[0m\n",
      "\u001b[0;31mAttributeError\u001b[0m: 'str' object has no attribute 'insert'"
     ]
    }
   ],
   "source": [
    "s = 'abc'\n",
    "s.insert(1,'d')\n",
    "print(s)"
   ]
  },
  {
   "cell_type": "code",
   "execution_count": 49,
   "metadata": {},
   "outputs": [
    {
     "data": {
      "text/plain": [
       "False"
      ]
     },
     "execution_count": 49,
     "metadata": {},
     "output_type": "execute_result"
    }
   ],
   "source": [
    "def oneAway(string_x, string_y):\n",
    "    #insert OR remove a character\n",
    "    string_len = len(string_x) - len(string_y)\n",
    "    if abs(string_len) > 1:\n",
    "        return False\n",
    "    else:\n",
    "        #check for replaced characters\n",
    "        diff = 0\n",
    "        for l in string_x:\n",
    "            if l not in string_y:\n",
    "                diff += 1\n",
    "        if diff > 1:\n",
    "            return False\n",
    "        return True\n",
    "\n",
    "oneAway('pale', 'bake')"
   ]
  },
  {
   "cell_type": "code",
   "execution_count": 53,
   "metadata": {},
   "outputs": [
    {
     "name": "stdout",
     "output_type": "stream",
     "text": [
      "ab\n",
      "abwx\n"
     ]
    }
   ],
   "source": [
    "s = 'aaaaaaabbbb'\n",
    "print(''.join(dict.fromkeys(s)))\n",
    "\n",
    "print(''.join(['a','b','w','x']))"
   ]
  },
  {
   "cell_type": "code",
   "execution_count": 57,
   "metadata": {},
   "outputs": [
    {
     "data": {
      "text/plain": [
       "'a5b1c5'"
      ]
     },
     "execution_count": 57,
     "metadata": {},
     "output_type": "execute_result"
    }
   ],
   "source": [
    "#string compressions\n",
    "def strCompr(string_x):\n",
    "    string_list = []\n",
    "    string_a = ''.join(dict.fromkeys(string_x))\n",
    "    if len(string_x) == len(string_a):\n",
    "        return string_x\n",
    "    else:\n",
    "        for l in string_X:\n",
    "            string_list.append(l+str(string_x.count(l)))\n",
    "    return ''.join(string_list)\n",
    "\n",
    "strCompr('aabcccccaaa')"
   ]
  },
  {
   "cell_type": "code",
   "execution_count": 64,
   "metadata": {},
   "outputs": [
    {
     "data": {
      "text/plain": [
       "'aa,b,ccccc,aaa'"
      ]
     },
     "execution_count": 64,
     "metadata": {},
     "output_type": "execute_result"
    }
   ],
   "source": [
    "from itertools import groupby\n",
    " \n",
    "def splitter(text):\n",
    "    return ','.join(''.join(group) for key, group in groupby(text))\n",
    "\n",
    "splitter('aabcccccaaa')"
   ]
  },
  {
   "cell_type": "code",
   "execution_count": 77,
   "metadata": {},
   "outputs": [
    {
     "data": {
      "text/plain": [
       "'a2b1c3a1'"
      ]
     },
     "execution_count": 77,
     "metadata": {},
     "output_type": "execute_result"
    }
   ],
   "source": [
    "from itertools import groupby\n",
    "\n",
    "def stringCompr(string_x):\n",
    "    str_list = []\n",
    "    compr_str = ''.join(dict.fromkeys(string_x))\n",
    "    if len(string_x) == len(compr_str):\n",
    "        return string_x\n",
    "    else:\n",
    "        grp_string = list(''.join(group) for key, group in groupby(string_x))\n",
    "        for l in grp_string:\n",
    "            str_list.append(l[0] + str(len(l)))\n",
    "    return ''.join(str_list)\n",
    "        \n",
    "    \n",
    "stringCompr('aabccca')"
   ]
  },
  {
   "cell_type": "code",
   "execution_count": 9,
   "metadata": {},
   "outputs": [
    {
     "name": "stdout",
     "output_type": "stream",
     "text": [
      "terbottle\n"
     ]
    }
   ],
   "source": [
    "s = 'waterbottle'\n",
    "x = s[0 : 3]\n",
    "y = s[2: ]\n",
    "print(y)"
   ]
  },
  {
   "cell_type": "code",
   "execution_count": 17,
   "metadata": {},
   "outputs": [
    {
     "name": "stdout",
     "output_type": "stream",
     "text": [
      "waterbottle is a rotation of erbottlewat\n"
     ]
    }
   ],
   "source": [
    "def isSubstring(s1, s2):\n",
    "    new_string = s1[3: ] + s1[0:3]\n",
    "    \n",
    "    if s2 == new_string:\n",
    "        return s1 + \" is a rotation of \"+ s2\n",
    "    return \"No it's not\"\n",
    "\n",
    "print(isSubstring('waterbottle', 'erbottlewat'))"
   ]
  },
  {
   "cell_type": "code",
   "execution_count": null,
   "metadata": {},
   "outputs": [],
   "source": []
  }
 ],
 "metadata": {
  "kernelspec": {
   "display_name": "Python 3",
   "language": "python",
   "name": "python3"
  },
  "language_info": {
   "codemirror_mode": {
    "name": "ipython",
    "version": 3
   },
   "file_extension": ".py",
   "mimetype": "text/x-python",
   "name": "python",
   "nbconvert_exporter": "python",
   "pygments_lexer": "ipython3",
   "version": "3.7.3"
  }
 },
 "nbformat": 4,
 "nbformat_minor": 2
}
